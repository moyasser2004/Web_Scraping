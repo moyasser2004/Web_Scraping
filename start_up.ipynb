{
 "cells": [
  {
   "cell_type": "code",
   "execution_count": null,
   "id": "6c223a99",
   "metadata": {},
   "outputs": [],
   "source": [
    "from selenium import webdriver\n",
    "from selenium import webdriver\n",
    "from selenium.webdriver.chrome.options import Options\n",
    "from selenium import webdriver\n",
    "from selenium import webdriver\n",
    "from selenium.webdriver.common.keys import Keys\n",
    "from selenium.webdriver.common.by import By\n",
    "from selenium.webdriver.support.ui import WebDriverWait\n",
    "from selenium.webdriver.support import expected_conditions as EC\n",
    "from selenium.webdriver.common.action_chains import ActionChains\n",
    "from selenium.webdriver.support.ui import Select\n",
    "\n",
    "import time as T\n",
    "import requests\n",
    "from bs4 import BeautifulSoup\n",
    "import json\n",
    "import warnings\n",
    "import re\n",
    "from selenium.webdriver.common.desired_capabilities import DesiredCapabilities\n",
    "import urllib.request\n",
    "warnings.filterwarnings('ignore')\n",
    "\n",
    "import pandas as pd \n",
    "import numpy as np\n",
    "import os \n",
    "from selenium.webdriver.chrome.service import Service\n",
    "\n",
    "\n",
    "def sleep(time):\n",
    "    return (T.sleep(time))\n",
    "\n",
    "def getting_URL(driver,url):\n",
    "    return(driver.get(url))\n",
    "\n",
    "\n",
    "def Clicking_on_element(driver,Xpath):\n",
    "    dropdown_option = WebDriverWait(driver, 15).until(EC.presence_of_element_located((By.XPATH,Xpath)))\n",
    "    return (dropdown_option.click())\n",
    "\n",
    "\n",
    "option = webdriver.ChromeOptions()\n",
    "\n",
    "# Path to the GeckoDriver executable (change this to your actual path)\n",
    "geckodriver_path = 'geckodriver.exe'\n",
    "\n",
    "# Initialize the Firefox browser\n",
    "service = Service(executable_path=geckodriver_path)\n",
    "\n",
    "driver = webdriver.Firefox(service=service)\n",
    "# URL of the website you want to scrape\n",
    "\n",
    "\n",
    "url = \"https://www.jumia.com.eg/?aff_click_id=71b787d9-b40c-4f92-9148-0511157456ae&utm_source=kol&utm_medium=affiliation&utm_campaign=bd9c5051-4ab9-4456-92cf-503270e61c88&utm_term=customlinks&utm_content=d62dba50-23dc-30b0-892a-6c4dbf2c28ae\"\n",
    "# Open the website in the browser\n",
    "driver.get(url)\n",
    "\n",
    "sleep(7)\n",
    "\n",
    "\n",
    "# Perform scraping operations here\n",
    "# You can find elements, interact with them, and extract data\n",
    "Clicking_on_element(driver,'//*[@id=\"pop\"]/div/section/button')\n",
    "\n",
    "search_box=driver.find_element(By.ID,'fi-q')\n",
    "search_box.send_keys('Mobile')\n",
    "sleep(1)\n",
    "find=driver.find_element(By.XPATH,'/html/body/div[1]/header/section/form/button')\n",
    "find.click()"
   ]
  },
  {
   "cell_type": "code",
   "execution_count": 1,
   "id": "dc1a3a77",
   "metadata": {},
   "outputs": [],
   "source": [
    "from selenium import webdriver\n",
    "from selenium.webdriver.firefox.service import Service\n",
    "from selenium.webdriver.common.by import By\n",
    "from selenium.webdriver.support.ui import WebDriverWait\n",
    "from selenium.webdriver.support import expected_conditions as EC\n",
    "import time\n"
   ]
  },
  {
   "cell_type": "code",
   "execution_count": 3,
   "id": "6c1b8be1",
   "metadata": {},
   "outputs": [],
   "source": [
    "def sleep(time_sec):\n",
    "    time.sleep(time_sec)\n",
    "\n",
    "\n",
    "def getting_URL(driver, url):\n",
    "    driver.get(url)\n",
    "\n",
    "\n",
    "def Clicking_on_element(driver, Xpath):\n",
    "    try:\n",
    "        element = WebDriverWait(driver, 30).until(\n",
    "            EC.element_to_be_clickable((By.XPATH, Xpath))\n",
    "        )\n",
    "        element.click()\n",
    "    except Exception as e:\n",
    "        print(f\"Element not found or clickable. Error: {str(e)}\")\n"
   ]
  },
  {
   "cell_type": "code",
   "execution_count": 4,
   "id": "9a2c3ba9",
   "metadata": {},
   "outputs": [
    {
     "ename": "WebDriverException",
     "evalue": "Message: Failed to decode response from marionette\n",
     "output_type": "error",
     "traceback": [
      "\u001b[1;31m---------------------------------------------------------------------------\u001b[0m",
      "\u001b[1;31mWebDriverException\u001b[0m                        Traceback (most recent call last)",
      "Cell \u001b[1;32mIn[4], line 21\u001b[0m\n\u001b[0;32m     18\u001b[0m sleep(\u001b[38;5;241m5\u001b[39m)\n\u001b[0;32m     20\u001b[0m \u001b[38;5;66;03m# Search for 'Mobile'\u001b[39;00m\n\u001b[1;32m---> 21\u001b[0m search_box \u001b[38;5;241m=\u001b[39m \u001b[43mWebDriverWait\u001b[49m\u001b[43m(\u001b[49m\u001b[43mdriver\u001b[49m\u001b[43m,\u001b[49m\u001b[43m \u001b[49m\u001b[38;5;241;43m15\u001b[39;49m\u001b[43m)\u001b[49m\u001b[38;5;241;43m.\u001b[39;49m\u001b[43muntil\u001b[49m\u001b[43m(\u001b[49m\n\u001b[0;32m     22\u001b[0m \u001b[43m    \u001b[49m\u001b[43mEC\u001b[49m\u001b[38;5;241;43m.\u001b[39;49m\u001b[43mpresence_of_element_located\u001b[49m\u001b[43m(\u001b[49m\u001b[43m(\u001b[49m\u001b[43mBy\u001b[49m\u001b[38;5;241;43m.\u001b[39;49m\u001b[43mID\u001b[49m\u001b[43m,\u001b[49m\u001b[43m \u001b[49m\u001b[38;5;124;43m\"\u001b[39;49m\u001b[38;5;124;43mtwotabsearchtextbox\u001b[39;49m\u001b[38;5;124;43m\"\u001b[39;49m\u001b[43m)\u001b[49m\u001b[43m)\u001b[49m\n\u001b[0;32m     23\u001b[0m \u001b[43m)\u001b[49m\n\u001b[0;32m     24\u001b[0m search_box\u001b[38;5;241m.\u001b[39msend_keys(\u001b[38;5;124m\"\u001b[39m\u001b[38;5;124mMobile\u001b[39m\u001b[38;5;124m\"\u001b[39m)\n\u001b[0;32m     26\u001b[0m \u001b[38;5;66;03m# Click on the search button\u001b[39;00m\n",
      "File \u001b[1;32m~\\AppData\\Roaming\\Python\\Python312\\site-packages\\selenium\\webdriver\\support\\wait.py:96\u001b[0m, in \u001b[0;36mWebDriverWait.until\u001b[1;34m(self, method, message)\u001b[0m\n\u001b[0;32m     94\u001b[0m \u001b[38;5;28;01mwhile\u001b[39;00m \u001b[38;5;28;01mTrue\u001b[39;00m:\n\u001b[0;32m     95\u001b[0m     \u001b[38;5;28;01mtry\u001b[39;00m:\n\u001b[1;32m---> 96\u001b[0m         value \u001b[38;5;241m=\u001b[39m \u001b[43mmethod\u001b[49m\u001b[43m(\u001b[49m\u001b[38;5;28;43mself\u001b[39;49m\u001b[38;5;241;43m.\u001b[39;49m\u001b[43m_driver\u001b[49m\u001b[43m)\u001b[49m\n\u001b[0;32m     97\u001b[0m         \u001b[38;5;28;01mif\u001b[39;00m value:\n\u001b[0;32m     98\u001b[0m             \u001b[38;5;28;01mreturn\u001b[39;00m value\n",
      "File \u001b[1;32m~\\AppData\\Roaming\\Python\\Python312\\site-packages\\selenium\\webdriver\\support\\expected_conditions.py:84\u001b[0m, in \u001b[0;36mpresence_of_element_located.<locals>._predicate\u001b[1;34m(driver)\u001b[0m\n\u001b[0;32m     83\u001b[0m \u001b[38;5;28;01mdef\u001b[39;00m \u001b[38;5;21m_predicate\u001b[39m(driver: WebDriverOrWebElement):\n\u001b[1;32m---> 84\u001b[0m     \u001b[38;5;28;01mreturn\u001b[39;00m \u001b[43mdriver\u001b[49m\u001b[38;5;241;43m.\u001b[39;49m\u001b[43mfind_element\u001b[49m\u001b[43m(\u001b[49m\u001b[38;5;241;43m*\u001b[39;49m\u001b[43mlocator\u001b[49m\u001b[43m)\u001b[49m\n",
      "File \u001b[1;32m~\\AppData\\Roaming\\Python\\Python312\\site-packages\\selenium\\webdriver\\remote\\webdriver.py:748\u001b[0m, in \u001b[0;36mWebDriver.find_element\u001b[1;34m(self, by, value)\u001b[0m\n\u001b[0;32m    745\u001b[0m     by \u001b[38;5;241m=\u001b[39m By\u001b[38;5;241m.\u001b[39mCSS_SELECTOR\n\u001b[0;32m    746\u001b[0m     value \u001b[38;5;241m=\u001b[39m \u001b[38;5;124mf\u001b[39m\u001b[38;5;124m'\u001b[39m\u001b[38;5;124m[name=\u001b[39m\u001b[38;5;124m\"\u001b[39m\u001b[38;5;132;01m{\u001b[39;00mvalue\u001b[38;5;132;01m}\u001b[39;00m\u001b[38;5;124m\"\u001b[39m\u001b[38;5;124m]\u001b[39m\u001b[38;5;124m'\u001b[39m\n\u001b[1;32m--> 748\u001b[0m \u001b[38;5;28;01mreturn\u001b[39;00m \u001b[38;5;28;43mself\u001b[39;49m\u001b[38;5;241;43m.\u001b[39;49m\u001b[43mexecute\u001b[49m\u001b[43m(\u001b[49m\u001b[43mCommand\u001b[49m\u001b[38;5;241;43m.\u001b[39;49m\u001b[43mFIND_ELEMENT\u001b[49m\u001b[43m,\u001b[49m\u001b[43m \u001b[49m\u001b[43m{\u001b[49m\u001b[38;5;124;43m\"\u001b[39;49m\u001b[38;5;124;43musing\u001b[39;49m\u001b[38;5;124;43m\"\u001b[39;49m\u001b[43m:\u001b[49m\u001b[43m \u001b[49m\u001b[43mby\u001b[49m\u001b[43m,\u001b[49m\u001b[43m \u001b[49m\u001b[38;5;124;43m\"\u001b[39;49m\u001b[38;5;124;43mvalue\u001b[39;49m\u001b[38;5;124;43m\"\u001b[39;49m\u001b[43m:\u001b[49m\u001b[43m \u001b[49m\u001b[43mvalue\u001b[49m\u001b[43m}\u001b[49m\u001b[43m)\u001b[49m[\u001b[38;5;124m\"\u001b[39m\u001b[38;5;124mvalue\u001b[39m\u001b[38;5;124m\"\u001b[39m]\n",
      "File \u001b[1;32m~\\AppData\\Roaming\\Python\\Python312\\site-packages\\selenium\\webdriver\\remote\\webdriver.py:354\u001b[0m, in \u001b[0;36mWebDriver.execute\u001b[1;34m(self, driver_command, params)\u001b[0m\n\u001b[0;32m    352\u001b[0m response \u001b[38;5;241m=\u001b[39m \u001b[38;5;28mself\u001b[39m\u001b[38;5;241m.\u001b[39mcommand_executor\u001b[38;5;241m.\u001b[39mexecute(driver_command, params)\n\u001b[0;32m    353\u001b[0m \u001b[38;5;28;01mif\u001b[39;00m response:\n\u001b[1;32m--> 354\u001b[0m     \u001b[38;5;28;43mself\u001b[39;49m\u001b[38;5;241;43m.\u001b[39;49m\u001b[43merror_handler\u001b[49m\u001b[38;5;241;43m.\u001b[39;49m\u001b[43mcheck_response\u001b[49m\u001b[43m(\u001b[49m\u001b[43mresponse\u001b[49m\u001b[43m)\u001b[49m\n\u001b[0;32m    355\u001b[0m     response[\u001b[38;5;124m\"\u001b[39m\u001b[38;5;124mvalue\u001b[39m\u001b[38;5;124m\"\u001b[39m] \u001b[38;5;241m=\u001b[39m \u001b[38;5;28mself\u001b[39m\u001b[38;5;241m.\u001b[39m_unwrap_value(response\u001b[38;5;241m.\u001b[39mget(\u001b[38;5;124m\"\u001b[39m\u001b[38;5;124mvalue\u001b[39m\u001b[38;5;124m\"\u001b[39m, \u001b[38;5;28;01mNone\u001b[39;00m))\n\u001b[0;32m    356\u001b[0m     \u001b[38;5;28;01mreturn\u001b[39;00m response\n",
      "File \u001b[1;32m~\\AppData\\Roaming\\Python\\Python312\\site-packages\\selenium\\webdriver\\remote\\errorhandler.py:229\u001b[0m, in \u001b[0;36mErrorHandler.check_response\u001b[1;34m(self, response)\u001b[0m\n\u001b[0;32m    227\u001b[0m         alert_text \u001b[38;5;241m=\u001b[39m value[\u001b[38;5;124m\"\u001b[39m\u001b[38;5;124malert\u001b[39m\u001b[38;5;124m\"\u001b[39m]\u001b[38;5;241m.\u001b[39mget(\u001b[38;5;124m\"\u001b[39m\u001b[38;5;124mtext\u001b[39m\u001b[38;5;124m\"\u001b[39m)\n\u001b[0;32m    228\u001b[0m     \u001b[38;5;28;01mraise\u001b[39;00m exception_class(message, screen, stacktrace, alert_text)  \u001b[38;5;66;03m# type: ignore[call-arg]  # mypy is not smart enough here\u001b[39;00m\n\u001b[1;32m--> 229\u001b[0m \u001b[38;5;28;01mraise\u001b[39;00m exception_class(message, screen, stacktrace)\n",
      "\u001b[1;31mWebDriverException\u001b[0m: Message: Failed to decode response from marionette\n"
     ]
    }
   ],
   "source": [
    "# Path to the GeckoDriver executable (change this to your actual path)\n",
    "geckodriver_path = \"geckodriver.exe\"\n",
    "\n",
    "# Initialize the Firefox browser\n",
    "service = Service(executable_path=geckodriver_path)\n",
    "options = webdriver.FirefoxOptions()\n",
    "\n",
    "driver = webdriver.Firefox(service=service, options=options)\n",
    "\n",
    "# URL of Amazon website\n",
    "url = \"https://www.amazon.com\"\n",
    "driver.get(url)\n",
    "\n",
    "# Wait for the user to manually complete CAPTCHA if needed\n",
    "input(\"Please complete CAPTCHA and press Enter to continue...\")\n",
    "\n",
    "# Give time for the page to load after CAPTCHA\n",
    "sleep(5)\n",
    "\n",
    "# Search for 'Mobile'\n",
    "search_box = WebDriverWait(driver, 15).until(\n",
    "    EC.presence_of_element_located((By.ID, \"twotabsearchtextbox\"))\n",
    ")\n",
    "search_box.send_keys(\"Mobile\")\n",
    "\n",
    "# Click on the search button\n",
    "search_button = WebDriverWait(driver, 15).until(\n",
    "    EC.element_to_be_clickable((By.ID, \"nav-search-submit-button\"))\n",
    ")\n",
    "search_button.click()\n",
    "\n",
    "# Wait for the search results to load\n",
    "sleep(5)\n",
    "\n",
    "# Extract product name using the provided XPath\n",
    "try:\n",
    "    Product_Name = (\n",
    "        WebDriverWait(driver, 15)\n",
    "        .until(\n",
    "            EC.presence_of_element_located(\n",
    "                (\n",
    "                    By.XPATH,\n",
    "                    \"/html/body/div[1]/div[1]/div[1]/div[1]/div/span[1]/div[1]/div[2]/div/div/span/div/div/div/div[2]/div/div/div[2]/div[2]\",\n",
    "                )\n",
    "            )\n",
    "        )\n",
    "        .text\n",
    "    )\n",
    "    print(f\"Product Name: {Product_Name}\")\n",
    "except Exception as e:\n",
    "    print(f\"Error scraping product name: {str(e)}\")\n",
    "\n",
    "# Close the browser when done (uncomment this line after testing)\n",
    "# driver.quit()"
   ]
  },
  {
   "cell_type": "code",
   "execution_count": null,
   "id": "fae8bff0",
   "metadata": {},
   "outputs": [],
   "source": [
    "Product_Name = driver.find_element(\n",
    "    By.XPATH,\n",
    "    \"/html/body/div[1]/div[1]/div[1]/div[1]/div/span[1]/div[1]/div[2]/div/div/span/div/div/div/div[2]/div/div/div[2]/div[2]\",\n",
    ").text\n",
    "Product_Name"
   ]
  },
  {
   "cell_type": "code",
   "execution_count": 23,
   "id": "1d52bc33",
   "metadata": {},
   "outputs": [
    {
     "data": {
      "text/plain": [
       "'Iku A6 Dual Sim Dark Blue 1GB RAM 32GB 3G'"
      ]
     },
     "execution_count": 23,
     "metadata": {},
     "output_type": "execute_result"
    }
   ],
   "source": [
    "Product_Name=driver.find_element(By.XPATH,'/html/body/div[1]/main/div[1]/section/div/div[2]/div[1]').text\n",
    "Product_Name"
   ]
  },
  {
   "cell_type": "code",
   "execution_count": 7,
   "id": "6dff3c38",
   "metadata": {},
   "outputs": [],
   "source": []
  },
  {
   "cell_type": "code",
   "execution_count": 34,
   "id": "18c1f933",
   "metadata": {},
   "outputs": [
    {
     "data": {
      "text/plain": [
       "'PRODUCT REVIEWS (17)\\n5 out of 5\\nماشاء الله تبارك الله تحفة\\nموبايل كامل و الكمال له و شكرا للبائع بعد الله اللي اعطاني فرصة لامتلاكه\\n13-08-2023by سالي\\nVerified Purchase\\n5 out of 5\\nسامسونج a23\\nكاميرا جيده سعر كويس شبكته كويسه الوان الشاشه كويسه\\n12-07-2023by حسام الدين\\nVerified Purchase\\n5 out of 5\\nرائع\\nالسعر مقابل الجهاز رائع\\n05-07-2023by Mohamed\\nVerified Purchase'"
      ]
     },
     "execution_count": 34,
     "metadata": {},
     "output_type": "execute_result"
    }
   ],
   "source": [
    "reviews=driver.find_element(By.XPATH,'/html/body/div[1]/main/div[2]/div[2]/section[3]/div[2]/div[2]').text\n",
    "reviews"
   ]
  },
  {
   "cell_type": "code",
   "execution_count": 9,
   "id": "6040087b",
   "metadata": {},
   "outputs": [],
   "source": [
    "search_box=driver.find_element(By.ID,'fi-q')\n",
    "search_box.send_keys('Mobile')\n",
    "sleep(1)\n",
    "find=driver.find_element(By.XPATH,'/html/body/div[1]/header/section/form/button')\n",
    "find.click()"
   ]
  },
  {
   "cell_type": "code",
   "execution_count": 10,
   "id": "d68ea02f",
   "metadata": {},
   "outputs": [
    {
     "data": {
      "text/plain": [
       "<Response [403]>"
      ]
     },
     "execution_count": 10,
     "metadata": {},
     "output_type": "execute_result"
    }
   ],
   "source": [
    "from bs4 import BeautifulSoup\n",
    "import requests\n",
    "import warnings\n",
    "warnings.filterwarnings(\"ignore\")\n",
    "import requests\n",
    "resp = requests.get(\"https://www.jumia.com.eg/the-nudes-eyeshadow-9.6g-maybelline-new-york-mpg872304.html\")\n",
    "resp"
   ]
  },
  {
   "cell_type": "code",
   "execution_count": 11,
   "id": "1092b713",
   "metadata": {},
   "outputs": [],
   "source": [
    "\n",
    "\n",
    "Clicking_on_element(driver,'/html/body/div[1]/main/div[2]/div[3]/section/div[1]/article[2]/a/div[1]/img')"
   ]
  },
  {
   "cell_type": "code",
   "execution_count": null,
   "id": "447c9062",
   "metadata": {},
   "outputs": [],
   "source": [
    "# /html/body/div[1]/main/div[1]/section/div/div[2]/div[1]/div/h1\n",
    "\n",
    "# find=driver.find_element(By.XPATH,'/html/body/div[1]/header/section/form/button')\n"
   ]
  }
 ],
 "metadata": {
  "kernelspec": {
   "display_name": "Python 3",
   "language": "python",
   "name": "python3"
  },
  "language_info": {
   "codemirror_mode": {
    "name": "ipython",
    "version": 3
   },
   "file_extension": ".py",
   "mimetype": "text/x-python",
   "name": "python",
   "nbconvert_exporter": "python",
   "pygments_lexer": "ipython3",
   "version": "3.12.2"
  }
 },
 "nbformat": 4,
 "nbformat_minor": 5
}
